{
  "nbformat": 4,
  "nbformat_minor": 0,
  "metadata": {
    "colab": {
      "provenance": [],
      "authorship_tag": "ABX9TyPIhzhM/RuqXVPX1UEfm1Iu"
    },
    "kernelspec": {
      "name": "python3",
      "display_name": "Python 3"
    },
    "language_info": {
      "name": "python"
    }
  },
  "cells": [
    {
      "cell_type": "code",
      "execution_count": 1,
      "metadata": {
        "colab": {
          "base_uri": "https://localhost:8080/",
          "height": 241
        },
        "id": "OS14KQrWaVSg",
        "outputId": "ce430246-9b6a-4213-85e3-962479b4d46f"
      },
      "outputs": [
        {
          "output_type": "execute_result",
          "data": {
            "text/plain": [
              "1          20 to 99 employees\n",
              "2    10,000 or more employees\n",
              "3    10,000 or more employees\n",
              "4          10 to 19 employees\n",
              "6          20 to 99 employees\n",
              "Name: CompanySize, dtype: object"
            ],
            "text/html": [
              "<div>\n",
              "<style scoped>\n",
              "    .dataframe tbody tr th:only-of-type {\n",
              "        vertical-align: middle;\n",
              "    }\n",
              "\n",
              "    .dataframe tbody tr th {\n",
              "        vertical-align: top;\n",
              "    }\n",
              "\n",
              "    .dataframe thead th {\n",
              "        text-align: right;\n",
              "    }\n",
              "</style>\n",
              "<table border=\"1\" class=\"dataframe\">\n",
              "  <thead>\n",
              "    <tr style=\"text-align: right;\">\n",
              "      <th></th>\n",
              "      <th>CompanySize</th>\n",
              "    </tr>\n",
              "  </thead>\n",
              "  <tbody>\n",
              "    <tr>\n",
              "      <th>1</th>\n",
              "      <td>20 to 99 employees</td>\n",
              "    </tr>\n",
              "    <tr>\n",
              "      <th>2</th>\n",
              "      <td>10,000 or more employees</td>\n",
              "    </tr>\n",
              "    <tr>\n",
              "      <th>3</th>\n",
              "      <td>10,000 or more employees</td>\n",
              "    </tr>\n",
              "    <tr>\n",
              "      <th>4</th>\n",
              "      <td>10 to 19 employees</td>\n",
              "    </tr>\n",
              "    <tr>\n",
              "      <th>6</th>\n",
              "      <td>20 to 99 employees</td>\n",
              "    </tr>\n",
              "  </tbody>\n",
              "</table>\n",
              "</div><br><label><b>dtype:</b> object</label>"
            ]
          },
          "metadata": {},
          "execution_count": 1
        }
      ],
      "source": [
        "import pandas as pd\n",
        "\n",
        "surveys = pd.read_csv('StackOverflowDeveloperSurvey.csv', usecols=['CompanySize']).squeeze().dropna()\n",
        "surveys.head()"
      ]
    },
    {
      "cell_type": "code",
      "source": [
        "surveys.iloc[3]"
      ],
      "metadata": {
        "colab": {
          "base_uri": "https://localhost:8080/",
          "height": 36
        },
        "id": "1GMrQKoeabeQ",
        "outputId": "ff069a4d-2e8b-49f9-c5eb-cb787fa430b7"
      },
      "execution_count": 2,
      "outputs": [
        {
          "output_type": "execute_result",
          "data": {
            "text/plain": [
              "'10 to 19 employees'"
            ],
            "application/vnd.google.colaboratory.intrinsic+json": {
              "type": "string"
            }
          },
          "metadata": {},
          "execution_count": 2
        }
      ]
    },
    {
      "cell_type": "code",
      "source": [
        "surveys.iloc[1:11]"
      ],
      "metadata": {
        "colab": {
          "base_uri": "https://localhost:8080/",
          "height": 397
        },
        "id": "PhcjvrXCayQJ",
        "outputId": "5a0bfbf8-778d-4574-be0b-ecda5d6ad985"
      },
      "execution_count": 3,
      "outputs": [
        {
          "output_type": "execute_result",
          "data": {
            "text/plain": [
              "2     10,000 or more employees\n",
              "3     10,000 or more employees\n",
              "4           10 to 19 employees\n",
              "6           20 to 99 employees\n",
              "7      Fewer than 10 employees\n",
              "8     5,000 to 9,999 employees\n",
              "10        100 to 499 employees\n",
              "11        100 to 499 employees\n",
              "13     Fewer than 10 employees\n",
              "14    5,000 to 9,999 employees\n",
              "Name: CompanySize, dtype: object"
            ],
            "text/html": [
              "<div>\n",
              "<style scoped>\n",
              "    .dataframe tbody tr th:only-of-type {\n",
              "        vertical-align: middle;\n",
              "    }\n",
              "\n",
              "    .dataframe tbody tr th {\n",
              "        vertical-align: top;\n",
              "    }\n",
              "\n",
              "    .dataframe thead th {\n",
              "        text-align: right;\n",
              "    }\n",
              "</style>\n",
              "<table border=\"1\" class=\"dataframe\">\n",
              "  <thead>\n",
              "    <tr style=\"text-align: right;\">\n",
              "      <th></th>\n",
              "      <th>CompanySize</th>\n",
              "    </tr>\n",
              "  </thead>\n",
              "  <tbody>\n",
              "    <tr>\n",
              "      <th>2</th>\n",
              "      <td>10,000 or more employees</td>\n",
              "    </tr>\n",
              "    <tr>\n",
              "      <th>3</th>\n",
              "      <td>10,000 or more employees</td>\n",
              "    </tr>\n",
              "    <tr>\n",
              "      <th>4</th>\n",
              "      <td>10 to 19 employees</td>\n",
              "    </tr>\n",
              "    <tr>\n",
              "      <th>6</th>\n",
              "      <td>20 to 99 employees</td>\n",
              "    </tr>\n",
              "    <tr>\n",
              "      <th>7</th>\n",
              "      <td>Fewer than 10 employees</td>\n",
              "    </tr>\n",
              "    <tr>\n",
              "      <th>8</th>\n",
              "      <td>5,000 to 9,999 employees</td>\n",
              "    </tr>\n",
              "    <tr>\n",
              "      <th>10</th>\n",
              "      <td>100 to 499 employees</td>\n",
              "    </tr>\n",
              "    <tr>\n",
              "      <th>11</th>\n",
              "      <td>100 to 499 employees</td>\n",
              "    </tr>\n",
              "    <tr>\n",
              "      <th>13</th>\n",
              "      <td>Fewer than 10 employees</td>\n",
              "    </tr>\n",
              "    <tr>\n",
              "      <th>14</th>\n",
              "      <td>5,000 to 9,999 employees</td>\n",
              "    </tr>\n",
              "  </tbody>\n",
              "</table>\n",
              "</div><br><label><b>dtype:</b> object</label>"
            ]
          },
          "metadata": {},
          "execution_count": 3
        }
      ]
    },
    {
      "cell_type": "code",
      "source": [
        "surveys[12345]"
      ],
      "metadata": {
        "colab": {
          "base_uri": "https://localhost:8080/",
          "height": 36
        },
        "id": "-RPp2AORa8Wj",
        "outputId": "a5f81996-1acd-4ccf-c0b1-dbac1002548e"
      },
      "execution_count": 4,
      "outputs": [
        {
          "output_type": "execute_result",
          "data": {
            "text/plain": [
              "'20 to 99 employees'"
            ],
            "application/vnd.google.colaboratory.intrinsic+json": {
              "type": "string"
            }
          },
          "metadata": {},
          "execution_count": 4
        }
      ]
    },
    {
      "cell_type": "code",
      "source": [
        "surveys[12341:12351]"
      ],
      "metadata": {
        "colab": {
          "base_uri": "https://localhost:8080/",
          "height": 397
        },
        "id": "qptBNE8TbKlS",
        "outputId": "304c999e-c543-42e5-b42f-bfae451766fd"
      },
      "execution_count": 5,
      "outputs": [
        {
          "output_type": "execute_result",
          "data": {
            "text/plain": [
              "15989    1,000 to 4,999 employees\n",
              "15991          20 to 99 employees\n",
              "15992          10 to 19 employees\n",
              "15993    1,000 to 4,999 employees\n",
              "15994          20 to 99 employees\n",
              "15995        100 to 499 employees\n",
              "15996          10 to 19 employees\n",
              "15997                I don't know\n",
              "15998          20 to 99 employees\n",
              "15999        100 to 499 employees\n",
              "Name: CompanySize, dtype: object"
            ],
            "text/html": [
              "<div>\n",
              "<style scoped>\n",
              "    .dataframe tbody tr th:only-of-type {\n",
              "        vertical-align: middle;\n",
              "    }\n",
              "\n",
              "    .dataframe tbody tr th {\n",
              "        vertical-align: top;\n",
              "    }\n",
              "\n",
              "    .dataframe thead th {\n",
              "        text-align: right;\n",
              "    }\n",
              "</style>\n",
              "<table border=\"1\" class=\"dataframe\">\n",
              "  <thead>\n",
              "    <tr style=\"text-align: right;\">\n",
              "      <th></th>\n",
              "      <th>CompanySize</th>\n",
              "    </tr>\n",
              "  </thead>\n",
              "  <tbody>\n",
              "    <tr>\n",
              "      <th>15989</th>\n",
              "      <td>1,000 to 4,999 employees</td>\n",
              "    </tr>\n",
              "    <tr>\n",
              "      <th>15991</th>\n",
              "      <td>20 to 99 employees</td>\n",
              "    </tr>\n",
              "    <tr>\n",
              "      <th>15992</th>\n",
              "      <td>10 to 19 employees</td>\n",
              "    </tr>\n",
              "    <tr>\n",
              "      <th>15993</th>\n",
              "      <td>1,000 to 4,999 employees</td>\n",
              "    </tr>\n",
              "    <tr>\n",
              "      <th>15994</th>\n",
              "      <td>20 to 99 employees</td>\n",
              "    </tr>\n",
              "    <tr>\n",
              "      <th>15995</th>\n",
              "      <td>100 to 499 employees</td>\n",
              "    </tr>\n",
              "    <tr>\n",
              "      <th>15996</th>\n",
              "      <td>10 to 19 employees</td>\n",
              "    </tr>\n",
              "    <tr>\n",
              "      <th>15997</th>\n",
              "      <td>I don't know</td>\n",
              "    </tr>\n",
              "    <tr>\n",
              "      <th>15998</th>\n",
              "      <td>20 to 99 employees</td>\n",
              "    </tr>\n",
              "    <tr>\n",
              "      <th>15999</th>\n",
              "      <td>100 to 499 employees</td>\n",
              "    </tr>\n",
              "  </tbody>\n",
              "</table>\n",
              "</div><br><label><b>dtype:</b> object</label>"
            ]
          },
          "metadata": {},
          "execution_count": 5
        }
      ]
    },
    {
      "cell_type": "code",
      "source": [
        "surveys.sort_values(inplace=True)\n",
        "surveys"
      ],
      "metadata": {
        "colab": {
          "base_uri": "https://localhost:8080/",
          "height": 458
        },
        "id": "3HJCEjYobOJF",
        "outputId": "edb205a6-0529-4d8a-db55-86a085455c88"
      },
      "execution_count": 6,
      "outputs": [
        {
          "output_type": "execute_result",
          "data": {
            "text/plain": [
              "21923    1,000 to 4,999 employees\n",
              "36683    1,000 to 4,999 employees\n",
              "43105    1,000 to 4,999 employees\n",
              "43102    1,000 to 4,999 employees\n",
              "30582    1,000 to 4,999 employees\n",
              "                   ...           \n",
              "25535      I prefer not to answer\n",
              "14125      I prefer not to answer\n",
              "25502      I prefer not to answer\n",
              "35042      I prefer not to answer\n",
              "1587       I prefer not to answer\n",
              "Name: CompanySize, Length: 38922, dtype: object"
            ],
            "text/html": [
              "<div>\n",
              "<style scoped>\n",
              "    .dataframe tbody tr th:only-of-type {\n",
              "        vertical-align: middle;\n",
              "    }\n",
              "\n",
              "    .dataframe tbody tr th {\n",
              "        vertical-align: top;\n",
              "    }\n",
              "\n",
              "    .dataframe thead th {\n",
              "        text-align: right;\n",
              "    }\n",
              "</style>\n",
              "<table border=\"1\" class=\"dataframe\">\n",
              "  <thead>\n",
              "    <tr style=\"text-align: right;\">\n",
              "      <th></th>\n",
              "      <th>CompanySize</th>\n",
              "    </tr>\n",
              "  </thead>\n",
              "  <tbody>\n",
              "    <tr>\n",
              "      <th>21923</th>\n",
              "      <td>1,000 to 4,999 employees</td>\n",
              "    </tr>\n",
              "    <tr>\n",
              "      <th>36683</th>\n",
              "      <td>1,000 to 4,999 employees</td>\n",
              "    </tr>\n",
              "    <tr>\n",
              "      <th>43105</th>\n",
              "      <td>1,000 to 4,999 employees</td>\n",
              "    </tr>\n",
              "    <tr>\n",
              "      <th>43102</th>\n",
              "      <td>1,000 to 4,999 employees</td>\n",
              "    </tr>\n",
              "    <tr>\n",
              "      <th>30582</th>\n",
              "      <td>1,000 to 4,999 employees</td>\n",
              "    </tr>\n",
              "    <tr>\n",
              "      <th>...</th>\n",
              "      <td>...</td>\n",
              "    </tr>\n",
              "    <tr>\n",
              "      <th>25535</th>\n",
              "      <td>I prefer not to answer</td>\n",
              "    </tr>\n",
              "    <tr>\n",
              "      <th>14125</th>\n",
              "      <td>I prefer not to answer</td>\n",
              "    </tr>\n",
              "    <tr>\n",
              "      <th>25502</th>\n",
              "      <td>I prefer not to answer</td>\n",
              "    </tr>\n",
              "    <tr>\n",
              "      <th>35042</th>\n",
              "      <td>I prefer not to answer</td>\n",
              "    </tr>\n",
              "    <tr>\n",
              "      <th>1587</th>\n",
              "      <td>I prefer not to answer</td>\n",
              "    </tr>\n",
              "  </tbody>\n",
              "</table>\n",
              "<p>38922 rows × 1 columns</p>\n",
              "</div><br><label><b>dtype:</b> object</label>"
            ]
          },
          "metadata": {},
          "execution_count": 6
        }
      ]
    },
    {
      "cell_type": "code",
      "source": [
        "surveys[3]"
      ],
      "metadata": {
        "colab": {
          "base_uri": "https://localhost:8080/",
          "height": 36
        },
        "id": "TBCdv07dbUXl",
        "outputId": "5d317250-63ff-4075-9868-4760fd91bdb9"
      },
      "execution_count": 7,
      "outputs": [
        {
          "output_type": "execute_result",
          "data": {
            "text/plain": [
              "'10,000 or more employees'"
            ],
            "application/vnd.google.colaboratory.intrinsic+json": {
              "type": "string"
            }
          },
          "metadata": {},
          "execution_count": 7
        }
      ]
    },
    {
      "cell_type": "code",
      "source": [
        "surveys[1:11]"
      ],
      "metadata": {
        "colab": {
          "base_uri": "https://localhost:8080/",
          "height": 397
        },
        "id": "8ZZwb3EEbXEl",
        "outputId": "93972747-5357-47a8-8ed0-3695880cac97"
      },
      "execution_count": 8,
      "outputs": [
        {
          "output_type": "execute_result",
          "data": {
            "text/plain": [
              "36683    1,000 to 4,999 employees\n",
              "43105    1,000 to 4,999 employees\n",
              "43102    1,000 to 4,999 employees\n",
              "30582    1,000 to 4,999 employees\n",
              "43072    1,000 to 4,999 employees\n",
              "43063    1,000 to 4,999 employees\n",
              "23955    1,000 to 4,999 employees\n",
              "43060    1,000 to 4,999 employees\n",
              "43056    1,000 to 4,999 employees\n",
              "30558    1,000 to 4,999 employees\n",
              "Name: CompanySize, dtype: object"
            ],
            "text/html": [
              "<div>\n",
              "<style scoped>\n",
              "    .dataframe tbody tr th:only-of-type {\n",
              "        vertical-align: middle;\n",
              "    }\n",
              "\n",
              "    .dataframe tbody tr th {\n",
              "        vertical-align: top;\n",
              "    }\n",
              "\n",
              "    .dataframe thead th {\n",
              "        text-align: right;\n",
              "    }\n",
              "</style>\n",
              "<table border=\"1\" class=\"dataframe\">\n",
              "  <thead>\n",
              "    <tr style=\"text-align: right;\">\n",
              "      <th></th>\n",
              "      <th>CompanySize</th>\n",
              "    </tr>\n",
              "  </thead>\n",
              "  <tbody>\n",
              "    <tr>\n",
              "      <th>36683</th>\n",
              "      <td>1,000 to 4,999 employees</td>\n",
              "    </tr>\n",
              "    <tr>\n",
              "      <th>43105</th>\n",
              "      <td>1,000 to 4,999 employees</td>\n",
              "    </tr>\n",
              "    <tr>\n",
              "      <th>43102</th>\n",
              "      <td>1,000 to 4,999 employees</td>\n",
              "    </tr>\n",
              "    <tr>\n",
              "      <th>30582</th>\n",
              "      <td>1,000 to 4,999 employees</td>\n",
              "    </tr>\n",
              "    <tr>\n",
              "      <th>43072</th>\n",
              "      <td>1,000 to 4,999 employees</td>\n",
              "    </tr>\n",
              "    <tr>\n",
              "      <th>43063</th>\n",
              "      <td>1,000 to 4,999 employees</td>\n",
              "    </tr>\n",
              "    <tr>\n",
              "      <th>23955</th>\n",
              "      <td>1,000 to 4,999 employees</td>\n",
              "    </tr>\n",
              "    <tr>\n",
              "      <th>43060</th>\n",
              "      <td>1,000 to 4,999 employees</td>\n",
              "    </tr>\n",
              "    <tr>\n",
              "      <th>43056</th>\n",
              "      <td>1,000 to 4,999 employees</td>\n",
              "    </tr>\n",
              "    <tr>\n",
              "      <th>30558</th>\n",
              "      <td>1,000 to 4,999 employees</td>\n",
              "    </tr>\n",
              "  </tbody>\n",
              "</table>\n",
              "</div><br><label><b>dtype:</b> object</label>"
            ]
          },
          "metadata": {},
          "execution_count": 8
        }
      ]
    },
    {
      "cell_type": "code",
      "source": [
        "surveys[12345]"
      ],
      "metadata": {
        "colab": {
          "base_uri": "https://localhost:8080/",
          "height": 36
        },
        "id": "Z_7deBHJbZXV",
        "outputId": "73cb64c4-42fc-447e-b54a-9a51abdda2f5"
      },
      "execution_count": 9,
      "outputs": [
        {
          "output_type": "execute_result",
          "data": {
            "text/plain": [
              "'20 to 99 employees'"
            ],
            "application/vnd.google.colaboratory.intrinsic+json": {
              "type": "string"
            }
          },
          "metadata": {},
          "execution_count": 9
        }
      ]
    },
    {
      "cell_type": "code",
      "source": [
        "surveys[12341:12351]"
      ],
      "metadata": {
        "colab": {
          "base_uri": "https://localhost:8080/",
          "height": 397
        },
        "id": "x8wI-YoAbcbO",
        "outputId": "76de5650-9196-4012-d799-acaaa7a8a503"
      },
      "execution_count": 10,
      "outputs": [
        {
          "output_type": "execute_result",
          "data": {
            "text/plain": [
              "14554    10,000 or more employees\n",
              "9429     10,000 or more employees\n",
              "6384     10,000 or more employees\n",
              "1102     10,000 or more employees\n",
              "14549    10,000 or more employees\n",
              "14547    10,000 or more employees\n",
              "14570    10,000 or more employees\n",
              "14575    10,000 or more employees\n",
              "6410     10,000 or more employees\n",
              "14576    10,000 or more employees\n",
              "Name: CompanySize, dtype: object"
            ],
            "text/html": [
              "<div>\n",
              "<style scoped>\n",
              "    .dataframe tbody tr th:only-of-type {\n",
              "        vertical-align: middle;\n",
              "    }\n",
              "\n",
              "    .dataframe tbody tr th {\n",
              "        vertical-align: top;\n",
              "    }\n",
              "\n",
              "    .dataframe thead th {\n",
              "        text-align: right;\n",
              "    }\n",
              "</style>\n",
              "<table border=\"1\" class=\"dataframe\">\n",
              "  <thead>\n",
              "    <tr style=\"text-align: right;\">\n",
              "      <th></th>\n",
              "      <th>CompanySize</th>\n",
              "    </tr>\n",
              "  </thead>\n",
              "  <tbody>\n",
              "    <tr>\n",
              "      <th>14554</th>\n",
              "      <td>10,000 or more employees</td>\n",
              "    </tr>\n",
              "    <tr>\n",
              "      <th>9429</th>\n",
              "      <td>10,000 or more employees</td>\n",
              "    </tr>\n",
              "    <tr>\n",
              "      <th>6384</th>\n",
              "      <td>10,000 or more employees</td>\n",
              "    </tr>\n",
              "    <tr>\n",
              "      <th>1102</th>\n",
              "      <td>10,000 or more employees</td>\n",
              "    </tr>\n",
              "    <tr>\n",
              "      <th>14549</th>\n",
              "      <td>10,000 or more employees</td>\n",
              "    </tr>\n",
              "    <tr>\n",
              "      <th>14547</th>\n",
              "      <td>10,000 or more employees</td>\n",
              "    </tr>\n",
              "    <tr>\n",
              "      <th>14570</th>\n",
              "      <td>10,000 or more employees</td>\n",
              "    </tr>\n",
              "    <tr>\n",
              "      <th>14575</th>\n",
              "      <td>10,000 or more employees</td>\n",
              "    </tr>\n",
              "    <tr>\n",
              "      <th>6410</th>\n",
              "      <td>10,000 or more employees</td>\n",
              "    </tr>\n",
              "    <tr>\n",
              "      <th>14576</th>\n",
              "      <td>10,000 or more employees</td>\n",
              "    </tr>\n",
              "  </tbody>\n",
              "</table>\n",
              "</div><br><label><b>dtype:</b> object</label>"
            ]
          },
          "metadata": {},
          "execution_count": 10
        }
      ]
    },
    {
      "cell_type": "code",
      "source": [
        "surveys.reset_index(drop=True, inplace=True)\n",
        "surveys"
      ],
      "metadata": {
        "colab": {
          "base_uri": "https://localhost:8080/",
          "height": 458
        },
        "id": "17MsLbEcbe4F",
        "outputId": "6e428af2-6c68-42d8-993a-efcf9db74f59"
      },
      "execution_count": 11,
      "outputs": [
        {
          "output_type": "execute_result",
          "data": {
            "text/plain": [
              "0        1,000 to 4,999 employees\n",
              "1        1,000 to 4,999 employees\n",
              "2        1,000 to 4,999 employees\n",
              "3        1,000 to 4,999 employees\n",
              "4        1,000 to 4,999 employees\n",
              "                   ...           \n",
              "38917      I prefer not to answer\n",
              "38918      I prefer not to answer\n",
              "38919      I prefer not to answer\n",
              "38920      I prefer not to answer\n",
              "38921      I prefer not to answer\n",
              "Name: CompanySize, Length: 38922, dtype: object"
            ],
            "text/html": [
              "<div>\n",
              "<style scoped>\n",
              "    .dataframe tbody tr th:only-of-type {\n",
              "        vertical-align: middle;\n",
              "    }\n",
              "\n",
              "    .dataframe tbody tr th {\n",
              "        vertical-align: top;\n",
              "    }\n",
              "\n",
              "    .dataframe thead th {\n",
              "        text-align: right;\n",
              "    }\n",
              "</style>\n",
              "<table border=\"1\" class=\"dataframe\">\n",
              "  <thead>\n",
              "    <tr style=\"text-align: right;\">\n",
              "      <th></th>\n",
              "      <th>CompanySize</th>\n",
              "    </tr>\n",
              "  </thead>\n",
              "  <tbody>\n",
              "    <tr>\n",
              "      <th>0</th>\n",
              "      <td>1,000 to 4,999 employees</td>\n",
              "    </tr>\n",
              "    <tr>\n",
              "      <th>1</th>\n",
              "      <td>1,000 to 4,999 employees</td>\n",
              "    </tr>\n",
              "    <tr>\n",
              "      <th>2</th>\n",
              "      <td>1,000 to 4,999 employees</td>\n",
              "    </tr>\n",
              "    <tr>\n",
              "      <th>3</th>\n",
              "      <td>1,000 to 4,999 employees</td>\n",
              "    </tr>\n",
              "    <tr>\n",
              "      <th>4</th>\n",
              "      <td>1,000 to 4,999 employees</td>\n",
              "    </tr>\n",
              "    <tr>\n",
              "      <th>...</th>\n",
              "      <td>...</td>\n",
              "    </tr>\n",
              "    <tr>\n",
              "      <th>38917</th>\n",
              "      <td>I prefer not to answer</td>\n",
              "    </tr>\n",
              "    <tr>\n",
              "      <th>38918</th>\n",
              "      <td>I prefer not to answer</td>\n",
              "    </tr>\n",
              "    <tr>\n",
              "      <th>38919</th>\n",
              "      <td>I prefer not to answer</td>\n",
              "    </tr>\n",
              "    <tr>\n",
              "      <th>38920</th>\n",
              "      <td>I prefer not to answer</td>\n",
              "    </tr>\n",
              "    <tr>\n",
              "      <th>38921</th>\n",
              "      <td>I prefer not to answer</td>\n",
              "    </tr>\n",
              "  </tbody>\n",
              "</table>\n",
              "<p>38922 rows × 1 columns</p>\n",
              "</div><br><label><b>dtype:</b> object</label>"
            ]
          },
          "metadata": {},
          "execution_count": 11
        }
      ]
    },
    {
      "cell_type": "code",
      "source": [
        "surveys[3]"
      ],
      "metadata": {
        "colab": {
          "base_uri": "https://localhost:8080/",
          "height": 36
        },
        "id": "gpAbpmlfblBw",
        "outputId": "47269499-163f-4d42-d6a1-fa10247a8ac9"
      },
      "execution_count": 12,
      "outputs": [
        {
          "output_type": "execute_result",
          "data": {
            "text/plain": [
              "'1,000 to 4,999 employees'"
            ],
            "application/vnd.google.colaboratory.intrinsic+json": {
              "type": "string"
            }
          },
          "metadata": {},
          "execution_count": 12
        }
      ]
    },
    {
      "cell_type": "code",
      "source": [
        "surveys[1:10]"
      ],
      "metadata": {
        "colab": {
          "base_uri": "https://localhost:8080/",
          "height": 366
        },
        "id": "qzZcqo2obr4o",
        "outputId": "c469a186-2785-4c18-ef72-4280b8d1896a"
      },
      "execution_count": 13,
      "outputs": [
        {
          "output_type": "execute_result",
          "data": {
            "text/plain": [
              "1    1,000 to 4,999 employees\n",
              "2    1,000 to 4,999 employees\n",
              "3    1,000 to 4,999 employees\n",
              "4    1,000 to 4,999 employees\n",
              "5    1,000 to 4,999 employees\n",
              "6    1,000 to 4,999 employees\n",
              "7    1,000 to 4,999 employees\n",
              "8    1,000 to 4,999 employees\n",
              "9    1,000 to 4,999 employees\n",
              "Name: CompanySize, dtype: object"
            ],
            "text/html": [
              "<div>\n",
              "<style scoped>\n",
              "    .dataframe tbody tr th:only-of-type {\n",
              "        vertical-align: middle;\n",
              "    }\n",
              "\n",
              "    .dataframe tbody tr th {\n",
              "        vertical-align: top;\n",
              "    }\n",
              "\n",
              "    .dataframe thead th {\n",
              "        text-align: right;\n",
              "    }\n",
              "</style>\n",
              "<table border=\"1\" class=\"dataframe\">\n",
              "  <thead>\n",
              "    <tr style=\"text-align: right;\">\n",
              "      <th></th>\n",
              "      <th>CompanySize</th>\n",
              "    </tr>\n",
              "  </thead>\n",
              "  <tbody>\n",
              "    <tr>\n",
              "      <th>1</th>\n",
              "      <td>1,000 to 4,999 employees</td>\n",
              "    </tr>\n",
              "    <tr>\n",
              "      <th>2</th>\n",
              "      <td>1,000 to 4,999 employees</td>\n",
              "    </tr>\n",
              "    <tr>\n",
              "      <th>3</th>\n",
              "      <td>1,000 to 4,999 employees</td>\n",
              "    </tr>\n",
              "    <tr>\n",
              "      <th>4</th>\n",
              "      <td>1,000 to 4,999 employees</td>\n",
              "    </tr>\n",
              "    <tr>\n",
              "      <th>5</th>\n",
              "      <td>1,000 to 4,999 employees</td>\n",
              "    </tr>\n",
              "    <tr>\n",
              "      <th>6</th>\n",
              "      <td>1,000 to 4,999 employees</td>\n",
              "    </tr>\n",
              "    <tr>\n",
              "      <th>7</th>\n",
              "      <td>1,000 to 4,999 employees</td>\n",
              "    </tr>\n",
              "    <tr>\n",
              "      <th>8</th>\n",
              "      <td>1,000 to 4,999 employees</td>\n",
              "    </tr>\n",
              "    <tr>\n",
              "      <th>9</th>\n",
              "      <td>1,000 to 4,999 employees</td>\n",
              "    </tr>\n",
              "  </tbody>\n",
              "</table>\n",
              "</div><br><label><b>dtype:</b> object</label>"
            ]
          },
          "metadata": {},
          "execution_count": 13
        }
      ]
    },
    {
      "cell_type": "code",
      "source": [
        "surveys[12345]"
      ],
      "metadata": {
        "colab": {
          "base_uri": "https://localhost:8080/",
          "height": 36
        },
        "id": "BnpiK6UObxEm",
        "outputId": "c00431ec-75d5-4dfa-b7af-5384581eb37a"
      },
      "execution_count": 14,
      "outputs": [
        {
          "output_type": "execute_result",
          "data": {
            "text/plain": [
              "'10,000 or more employees'"
            ],
            "application/vnd.google.colaboratory.intrinsic+json": {
              "type": "string"
            }
          },
          "metadata": {},
          "execution_count": 14
        }
      ]
    },
    {
      "cell_type": "code",
      "source": [
        "surveys[12341:12351]"
      ],
      "metadata": {
        "colab": {
          "base_uri": "https://localhost:8080/",
          "height": 397
        },
        "id": "ObCyM3gscOps",
        "outputId": "11d24ca4-5673-4682-c5cf-7af06d9cd989"
      },
      "execution_count": 15,
      "outputs": [
        {
          "output_type": "execute_result",
          "data": {
            "text/plain": [
              "12341    10,000 or more employees\n",
              "12342    10,000 or more employees\n",
              "12343    10,000 or more employees\n",
              "12344    10,000 or more employees\n",
              "12345    10,000 or more employees\n",
              "12346    10,000 or more employees\n",
              "12347    10,000 or more employees\n",
              "12348    10,000 or more employees\n",
              "12349    10,000 or more employees\n",
              "12350    10,000 or more employees\n",
              "Name: CompanySize, dtype: object"
            ],
            "text/html": [
              "<div>\n",
              "<style scoped>\n",
              "    .dataframe tbody tr th:only-of-type {\n",
              "        vertical-align: middle;\n",
              "    }\n",
              "\n",
              "    .dataframe tbody tr th {\n",
              "        vertical-align: top;\n",
              "    }\n",
              "\n",
              "    .dataframe thead th {\n",
              "        text-align: right;\n",
              "    }\n",
              "</style>\n",
              "<table border=\"1\" class=\"dataframe\">\n",
              "  <thead>\n",
              "    <tr style=\"text-align: right;\">\n",
              "      <th></th>\n",
              "      <th>CompanySize</th>\n",
              "    </tr>\n",
              "  </thead>\n",
              "  <tbody>\n",
              "    <tr>\n",
              "      <th>12341</th>\n",
              "      <td>10,000 or more employees</td>\n",
              "    </tr>\n",
              "    <tr>\n",
              "      <th>12342</th>\n",
              "      <td>10,000 or more employees</td>\n",
              "    </tr>\n",
              "    <tr>\n",
              "      <th>12343</th>\n",
              "      <td>10,000 or more employees</td>\n",
              "    </tr>\n",
              "    <tr>\n",
              "      <th>12344</th>\n",
              "      <td>10,000 or more employees</td>\n",
              "    </tr>\n",
              "    <tr>\n",
              "      <th>12345</th>\n",
              "      <td>10,000 or more employees</td>\n",
              "    </tr>\n",
              "    <tr>\n",
              "      <th>12346</th>\n",
              "      <td>10,000 or more employees</td>\n",
              "    </tr>\n",
              "    <tr>\n",
              "      <th>12347</th>\n",
              "      <td>10,000 or more employees</td>\n",
              "    </tr>\n",
              "    <tr>\n",
              "      <th>12348</th>\n",
              "      <td>10,000 or more employees</td>\n",
              "    </tr>\n",
              "    <tr>\n",
              "      <th>12349</th>\n",
              "      <td>10,000 or more employees</td>\n",
              "    </tr>\n",
              "    <tr>\n",
              "      <th>12350</th>\n",
              "      <td>10,000 or more employees</td>\n",
              "    </tr>\n",
              "  </tbody>\n",
              "</table>\n",
              "</div><br><label><b>dtype:</b> object</label>"
            ]
          },
          "metadata": {},
          "execution_count": 15
        }
      ]
    }
  ]
}