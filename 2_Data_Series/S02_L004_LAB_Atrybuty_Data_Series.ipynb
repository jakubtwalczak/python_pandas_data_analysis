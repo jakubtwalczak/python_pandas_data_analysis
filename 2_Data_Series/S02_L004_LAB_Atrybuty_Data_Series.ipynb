{
  "nbformat": 4,
  "nbformat_minor": 0,
  "metadata": {
    "colab": {
      "provenance": [],
      "authorship_tag": "ABX9TyPCxsnU1cIAaM1sZvDygK1O"
    },
    "kernelspec": {
      "name": "python3",
      "display_name": "Python 3"
    },
    "language_info": {
      "name": "python"
    }
  },
  "cells": [
    {
      "cell_type": "code",
      "execution_count": 1,
      "metadata": {
        "id": "Sg6hIXq8j8h0"
      },
      "outputs": [],
      "source": [
        "import pandas as pd\n",
        "import numpy as np\n",
        "import matplotlib.pyplot as plt\n",
        "import math"
      ]
    },
    {
      "cell_type": "code",
      "source": [
        "import random as rnd\n",
        "\n",
        "dataAsFloatList = []\n",
        "for i in range(10000):\n",
        "    dataAsFloatList.append(rnd.random() * i)\n",
        "\n",
        "dataAsFloatSeries = pd.Series(dataAsFloatList)\n",
        "dataAsFloatSeries"
      ],
      "metadata": {
        "colab": {
          "base_uri": "https://localhost:8080/",
          "height": 458
        },
        "id": "dGJQWqpKkGDI",
        "outputId": "a952aea7-bf6d-4fa2-9f95-29f3cfcf0a35"
      },
      "execution_count": 2,
      "outputs": [
        {
          "output_type": "execute_result",
          "data": {
            "text/plain": [
              "0          0.000000\n",
              "1          0.699522\n",
              "2          0.186807\n",
              "3          1.996526\n",
              "4          1.975676\n",
              "           ...     \n",
              "9995    1445.375658\n",
              "9996    6091.124421\n",
              "9997    5142.246203\n",
              "9998    1805.285529\n",
              "9999    6313.717795\n",
              "Length: 10000, dtype: float64"
            ],
            "text/html": [
              "<div>\n",
              "<style scoped>\n",
              "    .dataframe tbody tr th:only-of-type {\n",
              "        vertical-align: middle;\n",
              "    }\n",
              "\n",
              "    .dataframe tbody tr th {\n",
              "        vertical-align: top;\n",
              "    }\n",
              "\n",
              "    .dataframe thead th {\n",
              "        text-align: right;\n",
              "    }\n",
              "</style>\n",
              "<table border=\"1\" class=\"dataframe\">\n",
              "  <thead>\n",
              "    <tr style=\"text-align: right;\">\n",
              "      <th></th>\n",
              "      <th>0</th>\n",
              "    </tr>\n",
              "  </thead>\n",
              "  <tbody>\n",
              "    <tr>\n",
              "      <th>0</th>\n",
              "      <td>0.000000</td>\n",
              "    </tr>\n",
              "    <tr>\n",
              "      <th>1</th>\n",
              "      <td>0.699522</td>\n",
              "    </tr>\n",
              "    <tr>\n",
              "      <th>2</th>\n",
              "      <td>0.186807</td>\n",
              "    </tr>\n",
              "    <tr>\n",
              "      <th>3</th>\n",
              "      <td>1.996526</td>\n",
              "    </tr>\n",
              "    <tr>\n",
              "      <th>4</th>\n",
              "      <td>1.975676</td>\n",
              "    </tr>\n",
              "    <tr>\n",
              "      <th>...</th>\n",
              "      <td>...</td>\n",
              "    </tr>\n",
              "    <tr>\n",
              "      <th>9995</th>\n",
              "      <td>1445.375658</td>\n",
              "    </tr>\n",
              "    <tr>\n",
              "      <th>9996</th>\n",
              "      <td>6091.124421</td>\n",
              "    </tr>\n",
              "    <tr>\n",
              "      <th>9997</th>\n",
              "      <td>5142.246203</td>\n",
              "    </tr>\n",
              "    <tr>\n",
              "      <th>9998</th>\n",
              "      <td>1805.285529</td>\n",
              "    </tr>\n",
              "    <tr>\n",
              "      <th>9999</th>\n",
              "      <td>6313.717795</td>\n",
              "    </tr>\n",
              "  </tbody>\n",
              "</table>\n",
              "<p>10000 rows × 1 columns</p>\n",
              "</div><br><label><b>dtype:</b> float64</label>"
            ]
          },
          "metadata": {},
          "execution_count": 2
        }
      ]
    },
    {
      "cell_type": "code",
      "source": [
        "print(f\"Size: {dataAsFloatSeries.size}\")\n",
        "print(f\"No of bytes: {dataAsFloatSeries.nbytes}\")\n",
        "print(f\"Shape: {dataAsFloatSeries.shape}\")\n",
        "print(f\"Axes: {dataAsFloatSeries.axes}\")\n",
        "print(f\"Type: {dataAsFloatSeries.dtype}\")\n",
        "print(f\"Index: {dataAsFloatSeries.index}\")\n",
        "print(f\"Is unique: {dataAsFloatSeries.is_unique}\")\n",
        "print(f\"Is monotonic increasing: {dataAsFloatSeries.is_monotonic_increasing}\")\n",
        "print(f\"Is monotonic decreasing: {dataAsFloatSeries.is_monotonic_decreasing}\")"
      ],
      "metadata": {
        "colab": {
          "base_uri": "https://localhost:8080/"
        },
        "id": "fHlVWSAtkduK",
        "outputId": "57be745d-b677-40d3-99d2-8aae921eb339"
      },
      "execution_count": 3,
      "outputs": [
        {
          "output_type": "stream",
          "name": "stdout",
          "text": [
            "Size: 10000\n",
            "No of bytes: 80000\n",
            "Shape: (10000,)\n",
            "Axes: [RangeIndex(start=0, stop=10000, step=1)]\n",
            "Type: float64\n",
            "Index: RangeIndex(start=0, stop=10000, step=1)\n",
            "Is unique: True\n",
            "Is monotonic increasing: False\n",
            "Is monotonic decreasing: False\n"
          ]
        }
      ]
    },
    {
      "cell_type": "code",
      "source": [
        "dataAsStringList = []\n",
        "for i in range(10000):\n",
        "    dataAsStringList.append(str(rnd.random() * i))\n",
        "\n",
        "dataAsStringSeries = pd.Series(dataAsStringList)\n",
        "dataAsStringSeries"
      ],
      "metadata": {
        "colab": {
          "base_uri": "https://localhost:8080/",
          "height": 458
        },
        "id": "ykSqPAPak9_n",
        "outputId": "b8c0252d-7acb-4efd-a396-b71f43a326eb"
      },
      "execution_count": 4,
      "outputs": [
        {
          "output_type": "execute_result",
          "data": {
            "text/plain": [
              "0                       0.0\n",
              "1       0.36349730671932945\n",
              "2         1.548038197971164\n",
              "3         2.888515801732026\n",
              "4         2.439843793369679\n",
              "               ...         \n",
              "9995     5085.0542049360765\n",
              "9996       9687.36960160833\n",
              "9997      9537.635477944164\n",
              "9998      6940.954728400234\n",
              "9999      9685.286893342089\n",
              "Length: 10000, dtype: object"
            ],
            "text/html": [
              "<div>\n",
              "<style scoped>\n",
              "    .dataframe tbody tr th:only-of-type {\n",
              "        vertical-align: middle;\n",
              "    }\n",
              "\n",
              "    .dataframe tbody tr th {\n",
              "        vertical-align: top;\n",
              "    }\n",
              "\n",
              "    .dataframe thead th {\n",
              "        text-align: right;\n",
              "    }\n",
              "</style>\n",
              "<table border=\"1\" class=\"dataframe\">\n",
              "  <thead>\n",
              "    <tr style=\"text-align: right;\">\n",
              "      <th></th>\n",
              "      <th>0</th>\n",
              "    </tr>\n",
              "  </thead>\n",
              "  <tbody>\n",
              "    <tr>\n",
              "      <th>0</th>\n",
              "      <td>0.0</td>\n",
              "    </tr>\n",
              "    <tr>\n",
              "      <th>1</th>\n",
              "      <td>0.36349730671932945</td>\n",
              "    </tr>\n",
              "    <tr>\n",
              "      <th>2</th>\n",
              "      <td>1.548038197971164</td>\n",
              "    </tr>\n",
              "    <tr>\n",
              "      <th>3</th>\n",
              "      <td>2.888515801732026</td>\n",
              "    </tr>\n",
              "    <tr>\n",
              "      <th>4</th>\n",
              "      <td>2.439843793369679</td>\n",
              "    </tr>\n",
              "    <tr>\n",
              "      <th>...</th>\n",
              "      <td>...</td>\n",
              "    </tr>\n",
              "    <tr>\n",
              "      <th>9995</th>\n",
              "      <td>5085.0542049360765</td>\n",
              "    </tr>\n",
              "    <tr>\n",
              "      <th>9996</th>\n",
              "      <td>9687.36960160833</td>\n",
              "    </tr>\n",
              "    <tr>\n",
              "      <th>9997</th>\n",
              "      <td>9537.635477944164</td>\n",
              "    </tr>\n",
              "    <tr>\n",
              "      <th>9998</th>\n",
              "      <td>6940.954728400234</td>\n",
              "    </tr>\n",
              "    <tr>\n",
              "      <th>9999</th>\n",
              "      <td>9685.286893342089</td>\n",
              "    </tr>\n",
              "  </tbody>\n",
              "</table>\n",
              "<p>10000 rows × 1 columns</p>\n",
              "</div><br><label><b>dtype:</b> object</label>"
            ]
          },
          "metadata": {},
          "execution_count": 4
        }
      ]
    },
    {
      "cell_type": "code",
      "source": [
        "print(f\"Size: {dataAsStringSeries.size}\")\n",
        "print(f\"No of bytes: {dataAsStringSeries.nbytes}\")\n",
        "print(f\"Type: {dataAsStringSeries.dtype}\")"
      ],
      "metadata": {
        "colab": {
          "base_uri": "https://localhost:8080/"
        },
        "id": "Tksd1p9Blg_m",
        "outputId": "44664a36-6ec8-4055-de89-a50cbd6fcfdb"
      },
      "execution_count": 5,
      "outputs": [
        {
          "output_type": "stream",
          "name": "stdout",
          "text": [
            "Size: 10000\n",
            "No of bytes: 80000\n",
            "Type: object\n"
          ]
        }
      ]
    },
    {
      "cell_type": "code",
      "source": [
        "dataAsFloatSeries.memory_usage(deep=True)"
      ],
      "metadata": {
        "colab": {
          "base_uri": "https://localhost:8080/"
        },
        "id": "aW9SuJw-l4FV",
        "outputId": "52e36d2b-24e2-4fbf-8f38-5f8caeb79f46"
      },
      "execution_count": 6,
      "outputs": [
        {
          "output_type": "execute_result",
          "data": {
            "text/plain": [
              "80132"
            ]
          },
          "metadata": {},
          "execution_count": 6
        }
      ]
    },
    {
      "cell_type": "code",
      "source": [
        "dataAsStringSeries.memory_usage(deep=True)"
      ],
      "metadata": {
        "colab": {
          "base_uri": "https://localhost:8080/"
        },
        "id": "fkbKXLzymBG9",
        "outputId": "9197f86c-3b95-4df1-df33-31d89f840419"
      },
      "execution_count": 7,
      "outputs": [
        {
          "output_type": "execute_result",
          "data": {
            "text/plain": [
              "743550"
            ]
          },
          "metadata": {},
          "execution_count": 7
        }
      ]
    }
  ]
}