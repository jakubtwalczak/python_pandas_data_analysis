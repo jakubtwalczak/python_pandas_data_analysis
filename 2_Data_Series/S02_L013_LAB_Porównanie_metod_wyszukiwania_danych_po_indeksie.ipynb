{
  "nbformat": 4,
  "nbformat_minor": 0,
  "metadata": {
    "colab": {
      "provenance": [],
      "authorship_tag": "ABX9TyMCXLZCjYYP93oX0CNQKjef"
    },
    "kernelspec": {
      "name": "python3",
      "display_name": "Python 3"
    },
    "language_info": {
      "name": "python"
    }
  },
  "cells": [
    {
      "cell_type": "code",
      "execution_count": 1,
      "metadata": {
        "colab": {
          "base_uri": "https://localhost:8080/",
          "height": 742
        },
        "id": "TCo3dcy-egFb",
        "outputId": "861850d6-d629-4e6a-fbac-e7609af9a27d"
      },
      "outputs": [
        {
          "output_type": "execute_result",
          "data": {
            "text/plain": [
              "Symbol\n",
              "AF            Afghanistan\n",
              "AL                Albania\n",
              "DZ                Algeria\n",
              "AD                Andorra\n",
              "AO                 Angola\n",
              "AI               Anguilla\n",
              "AQ             Antarctica\n",
              "AG    Antigua and Barbuda\n",
              "SA           Saudi Arabia\n",
              "AR              Argentina\n",
              "AM                Armenia\n",
              "AW                  Aruba\n",
              "AU              Australia\n",
              "AT                Austria\n",
              "AZ             Azerbaijan\n",
              "BS                Bahamas\n",
              "BH                Bahrain\n",
              "BD             Bangladesh\n",
              "BB               Barbados\n",
              "BE                Belgium\n",
              "Name: Name, dtype: object"
            ],
            "text/html": [
              "<div>\n",
              "<style scoped>\n",
              "    .dataframe tbody tr th:only-of-type {\n",
              "        vertical-align: middle;\n",
              "    }\n",
              "\n",
              "    .dataframe tbody tr th {\n",
              "        vertical-align: top;\n",
              "    }\n",
              "\n",
              "    .dataframe thead th {\n",
              "        text-align: right;\n",
              "    }\n",
              "</style>\n",
              "<table border=\"1\" class=\"dataframe\">\n",
              "  <thead>\n",
              "    <tr style=\"text-align: right;\">\n",
              "      <th></th>\n",
              "      <th>Name</th>\n",
              "    </tr>\n",
              "    <tr>\n",
              "      <th>Symbol</th>\n",
              "      <th></th>\n",
              "    </tr>\n",
              "  </thead>\n",
              "  <tbody>\n",
              "    <tr>\n",
              "      <th>AF</th>\n",
              "      <td>Afghanistan</td>\n",
              "    </tr>\n",
              "    <tr>\n",
              "      <th>AL</th>\n",
              "      <td>Albania</td>\n",
              "    </tr>\n",
              "    <tr>\n",
              "      <th>DZ</th>\n",
              "      <td>Algeria</td>\n",
              "    </tr>\n",
              "    <tr>\n",
              "      <th>AD</th>\n",
              "      <td>Andorra</td>\n",
              "    </tr>\n",
              "    <tr>\n",
              "      <th>AO</th>\n",
              "      <td>Angola</td>\n",
              "    </tr>\n",
              "    <tr>\n",
              "      <th>AI</th>\n",
              "      <td>Anguilla</td>\n",
              "    </tr>\n",
              "    <tr>\n",
              "      <th>AQ</th>\n",
              "      <td>Antarctica</td>\n",
              "    </tr>\n",
              "    <tr>\n",
              "      <th>AG</th>\n",
              "      <td>Antigua and Barbuda</td>\n",
              "    </tr>\n",
              "    <tr>\n",
              "      <th>SA</th>\n",
              "      <td>Saudi Arabia</td>\n",
              "    </tr>\n",
              "    <tr>\n",
              "      <th>AR</th>\n",
              "      <td>Argentina</td>\n",
              "    </tr>\n",
              "    <tr>\n",
              "      <th>AM</th>\n",
              "      <td>Armenia</td>\n",
              "    </tr>\n",
              "    <tr>\n",
              "      <th>AW</th>\n",
              "      <td>Aruba</td>\n",
              "    </tr>\n",
              "    <tr>\n",
              "      <th>AU</th>\n",
              "      <td>Australia</td>\n",
              "    </tr>\n",
              "    <tr>\n",
              "      <th>AT</th>\n",
              "      <td>Austria</td>\n",
              "    </tr>\n",
              "    <tr>\n",
              "      <th>AZ</th>\n",
              "      <td>Azerbaijan</td>\n",
              "    </tr>\n",
              "    <tr>\n",
              "      <th>BS</th>\n",
              "      <td>Bahamas</td>\n",
              "    </tr>\n",
              "    <tr>\n",
              "      <th>BH</th>\n",
              "      <td>Bahrain</td>\n",
              "    </tr>\n",
              "    <tr>\n",
              "      <th>BD</th>\n",
              "      <td>Bangladesh</td>\n",
              "    </tr>\n",
              "    <tr>\n",
              "      <th>BB</th>\n",
              "      <td>Barbados</td>\n",
              "    </tr>\n",
              "    <tr>\n",
              "      <th>BE</th>\n",
              "      <td>Belgium</td>\n",
              "    </tr>\n",
              "  </tbody>\n",
              "</table>\n",
              "</div><br><label><b>dtype:</b> object</label>"
            ]
          },
          "metadata": {},
          "execution_count": 1
        }
      ],
      "source": [
        "import pandas as pd\n",
        "\n",
        "countries = pd.read_csv(\"countries.csv\", usecols=['Symbol','Name'],index_col='Symbol').squeeze()\n",
        "countries.head(20)"
      ]
    },
    {
      "cell_type": "code",
      "source": [
        "countries.loc['FR']"
      ],
      "metadata": {
        "colab": {
          "base_uri": "https://localhost:8080/",
          "height": 36
        },
        "id": "mmGalFZAhML1",
        "outputId": "2b127292-99fc-48f3-b123-2106db46edee"
      },
      "execution_count": 2,
      "outputs": [
        {
          "output_type": "execute_result",
          "data": {
            "text/plain": [
              "'France'"
            ],
            "application/vnd.google.colaboratory.intrinsic+json": {
              "type": "string"
            }
          },
          "metadata": {},
          "execution_count": 2
        }
      ]
    },
    {
      "cell_type": "code",
      "source": [
        "countries['FR']"
      ],
      "metadata": {
        "colab": {
          "base_uri": "https://localhost:8080/",
          "height": 36
        },
        "id": "JlOyDYbzhUEl",
        "outputId": "97eadb96-7ed7-430a-ec9f-ea1b4a37beba"
      },
      "execution_count": 3,
      "outputs": [
        {
          "output_type": "execute_result",
          "data": {
            "text/plain": [
              "'France'"
            ],
            "application/vnd.google.colaboratory.intrinsic+json": {
              "type": "string"
            }
          },
          "metadata": {},
          "execution_count": 3
        }
      ]
    },
    {
      "cell_type": "code",
      "source": [
        "countries.at['FR']"
      ],
      "metadata": {
        "colab": {
          "base_uri": "https://localhost:8080/",
          "height": 36
        },
        "id": "2EZlOMJihZAX",
        "outputId": "120c56e8-b7c9-4309-8989-36b5397057be"
      },
      "execution_count": 4,
      "outputs": [
        {
          "output_type": "execute_result",
          "data": {
            "text/plain": [
              "'France'"
            ],
            "application/vnd.google.colaboratory.intrinsic+json": {
              "type": "string"
            }
          },
          "metadata": {},
          "execution_count": 4
        }
      ]
    },
    {
      "cell_type": "code",
      "source": [
        "countries.get('FR')"
      ],
      "metadata": {
        "colab": {
          "base_uri": "https://localhost:8080/",
          "height": 36
        },
        "id": "WEfa19mQhfgG",
        "outputId": "20ced434-bd07-4bab-bb45-a7d2d7149081"
      },
      "execution_count": 5,
      "outputs": [
        {
          "output_type": "execute_result",
          "data": {
            "text/plain": [
              "'France'"
            ],
            "application/vnd.google.colaboratory.intrinsic+json": {
              "type": "string"
            }
          },
          "metadata": {},
          "execution_count": 5
        }
      ]
    },
    {
      "cell_type": "code",
      "source": [
        "countries[13]"
      ],
      "metadata": {
        "colab": {
          "base_uri": "https://localhost:8080/",
          "height": 90
        },
        "id": "9nhoO0Ythi8m",
        "outputId": "e5b4e4fd-0dcd-4f27-cc52-f775cde03d07"
      },
      "execution_count": 6,
      "outputs": [
        {
          "output_type": "stream",
          "name": "stderr",
          "text": [
            "<ipython-input-6-ca509e84bf2a>:1: FutureWarning: Series.__getitem__ treating keys as positions is deprecated. In a future version, integer keys will always be treated as labels (consistent with DataFrame behavior). To access a value by position, use `ser.iloc[pos]`\n",
            "  countries[13]\n"
          ]
        },
        {
          "output_type": "execute_result",
          "data": {
            "text/plain": [
              "'Austria'"
            ],
            "application/vnd.google.colaboratory.intrinsic+json": {
              "type": "string"
            }
          },
          "metadata": {},
          "execution_count": 6
        }
      ]
    },
    {
      "cell_type": "code",
      "source": [
        "countries.iloc[13]"
      ],
      "metadata": {
        "colab": {
          "base_uri": "https://localhost:8080/",
          "height": 36
        },
        "id": "Dj5IQ2rdhvXw",
        "outputId": "f9d0e4fe-a629-4440-8a17-eacb2e21b3de"
      },
      "execution_count": 7,
      "outputs": [
        {
          "output_type": "execute_result",
          "data": {
            "text/plain": [
              "'Austria'"
            ],
            "application/vnd.google.colaboratory.intrinsic+json": {
              "type": "string"
            }
          },
          "metadata": {},
          "execution_count": 7
        }
      ]
    },
    {
      "cell_type": "code",
      "source": [
        "countries.iat[13]"
      ],
      "metadata": {
        "colab": {
          "base_uri": "https://localhost:8080/",
          "height": 36
        },
        "id": "ih9JxDY5hxtY",
        "outputId": "46164281-9818-414e-b22d-466cdee35f20"
      },
      "execution_count": 8,
      "outputs": [
        {
          "output_type": "execute_result",
          "data": {
            "text/plain": [
              "'Austria'"
            ],
            "application/vnd.google.colaboratory.intrinsic+json": {
              "type": "string"
            }
          },
          "metadata": {},
          "execution_count": 8
        }
      ]
    },
    {
      "cell_type": "code",
      "source": [
        "nordic = ['FI', 'SE', 'NO']"
      ],
      "metadata": {
        "id": "cVIwMdcuh0wA"
      },
      "execution_count": 9,
      "outputs": []
    },
    {
      "cell_type": "code",
      "source": [
        "countries[nordic]"
      ],
      "metadata": {
        "colab": {
          "base_uri": "https://localhost:8080/",
          "height": 209
        },
        "id": "KEQ4ScsAiWUY",
        "outputId": "9088c8a0-19b3-453e-e834-64355f7b4e4c"
      },
      "execution_count": 10,
      "outputs": [
        {
          "output_type": "execute_result",
          "data": {
            "text/plain": [
              "Symbol\n",
              "FI    Finland\n",
              "SE     Sweden\n",
              "NO     Norway\n",
              "Name: Name, dtype: object"
            ],
            "text/html": [
              "<div>\n",
              "<style scoped>\n",
              "    .dataframe tbody tr th:only-of-type {\n",
              "        vertical-align: middle;\n",
              "    }\n",
              "\n",
              "    .dataframe tbody tr th {\n",
              "        vertical-align: top;\n",
              "    }\n",
              "\n",
              "    .dataframe thead th {\n",
              "        text-align: right;\n",
              "    }\n",
              "</style>\n",
              "<table border=\"1\" class=\"dataframe\">\n",
              "  <thead>\n",
              "    <tr style=\"text-align: right;\">\n",
              "      <th></th>\n",
              "      <th>Name</th>\n",
              "    </tr>\n",
              "    <tr>\n",
              "      <th>Symbol</th>\n",
              "      <th></th>\n",
              "    </tr>\n",
              "  </thead>\n",
              "  <tbody>\n",
              "    <tr>\n",
              "      <th>FI</th>\n",
              "      <td>Finland</td>\n",
              "    </tr>\n",
              "    <tr>\n",
              "      <th>SE</th>\n",
              "      <td>Sweden</td>\n",
              "    </tr>\n",
              "    <tr>\n",
              "      <th>NO</th>\n",
              "      <td>Norway</td>\n",
              "    </tr>\n",
              "  </tbody>\n",
              "</table>\n",
              "</div><br><label><b>dtype:</b> object</label>"
            ]
          },
          "metadata": {},
          "execution_count": 10
        }
      ]
    },
    {
      "cell_type": "code",
      "source": [
        "countries.loc[nordic]"
      ],
      "metadata": {
        "colab": {
          "base_uri": "https://localhost:8080/",
          "height": 209
        },
        "id": "_h2DJ0iXiao9",
        "outputId": "a5dd5689-b23c-472a-dc7f-d59f68aa8701"
      },
      "execution_count": 11,
      "outputs": [
        {
          "output_type": "execute_result",
          "data": {
            "text/plain": [
              "Symbol\n",
              "FI    Finland\n",
              "SE     Sweden\n",
              "NO     Norway\n",
              "Name: Name, dtype: object"
            ],
            "text/html": [
              "<div>\n",
              "<style scoped>\n",
              "    .dataframe tbody tr th:only-of-type {\n",
              "        vertical-align: middle;\n",
              "    }\n",
              "\n",
              "    .dataframe tbody tr th {\n",
              "        vertical-align: top;\n",
              "    }\n",
              "\n",
              "    .dataframe thead th {\n",
              "        text-align: right;\n",
              "    }\n",
              "</style>\n",
              "<table border=\"1\" class=\"dataframe\">\n",
              "  <thead>\n",
              "    <tr style=\"text-align: right;\">\n",
              "      <th></th>\n",
              "      <th>Name</th>\n",
              "    </tr>\n",
              "    <tr>\n",
              "      <th>Symbol</th>\n",
              "      <th></th>\n",
              "    </tr>\n",
              "  </thead>\n",
              "  <tbody>\n",
              "    <tr>\n",
              "      <th>FI</th>\n",
              "      <td>Finland</td>\n",
              "    </tr>\n",
              "    <tr>\n",
              "      <th>SE</th>\n",
              "      <td>Sweden</td>\n",
              "    </tr>\n",
              "    <tr>\n",
              "      <th>NO</th>\n",
              "      <td>Norway</td>\n",
              "    </tr>\n",
              "  </tbody>\n",
              "</table>\n",
              "</div><br><label><b>dtype:</b> object</label>"
            ]
          },
          "metadata": {},
          "execution_count": 11
        }
      ]
    }
  ]
}