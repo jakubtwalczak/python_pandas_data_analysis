{
  "nbformat": 4,
  "nbformat_minor": 0,
  "metadata": {
    "colab": {
      "provenance": [],
      "authorship_tag": "ABX9TyM+jt6P5lfrbfULdxDfp2L4"
    },
    "kernelspec": {
      "name": "python3",
      "display_name": "Python 3"
    },
    "language_info": {
      "name": "python"
    }
  },
  "cells": [
    {
      "cell_type": "code",
      "execution_count": 1,
      "metadata": {
        "id": "3UTFGC1axZnU"
      },
      "outputs": [],
      "source": [
        "import pandas as pd\n",
        "\n",
        "programmers = pd.read_csv('StackOverflowDeveloperSurvey2018.csv',\n",
        "                          usecols=['ConvertedSalary'], low_memory=False).squeeze()"
      ]
    },
    {
      "cell_type": "code",
      "source": [
        "print(f'Mean: {programmers.mean()}')\n",
        "print(f'Median: {programmers.median()}')\n",
        "print(f'Standard Deviation: {programmers.std()}')"
      ],
      "metadata": {
        "colab": {
          "base_uri": "https://localhost:8080/"
        },
        "id": "XIkZ49vI1-DE",
        "outputId": "68fe854f-f2f2-4f85-b1d7-c81f2a79a62b"
      },
      "execution_count": 2,
      "outputs": [
        {
          "output_type": "stream",
          "name": "stdout",
          "text": [
            "Mean: 95780.86178776571\n",
            "Median: 55075.0\n",
            "Standard Deviation: 202348.21562528735\n"
          ]
        }
      ]
    },
    {
      "cell_type": "code",
      "source": [
        "programmers.max()"
      ],
      "metadata": {
        "colab": {
          "base_uri": "https://localhost:8080/"
        },
        "id": "YJMcjswc2R4z",
        "outputId": "397ddcef-5683-4f76-f920-b3a7048b18e5"
      },
      "execution_count": 3,
      "outputs": [
        {
          "output_type": "execute_result",
          "data": {
            "text/plain": [
              "2000000.0"
            ]
          },
          "metadata": {},
          "execution_count": 3
        }
      ]
    },
    {
      "cell_type": "code",
      "source": [
        "fortune500 = pd.read_csv('Fortune_500_2017.csv',\n",
        "                         usecols=['Title', 'Employees'], index_col='Title').squeeze()\n",
        "fortune500.head()"
      ],
      "metadata": {
        "colab": {
          "base_uri": "https://localhost:8080/",
          "height": 272
        },
        "id": "ke23WS8d2T2M",
        "outputId": "275fa5f4-4dec-4e4d-c7ab-fd4a4ac1e336"
      },
      "execution_count": 4,
      "outputs": [
        {
          "output_type": "execute_result",
          "data": {
            "text/plain": [
              "Title\n",
              "Walmart               2300000\n",
              "Berkshire Hathaway     367700\n",
              "Apple                  116000\n",
              "Exxon Mobil             72700\n",
              "McKesson                68000\n",
              "Name: Employees, dtype: int64"
            ],
            "text/html": [
              "<div>\n",
              "<style scoped>\n",
              "    .dataframe tbody tr th:only-of-type {\n",
              "        vertical-align: middle;\n",
              "    }\n",
              "\n",
              "    .dataframe tbody tr th {\n",
              "        vertical-align: top;\n",
              "    }\n",
              "\n",
              "    .dataframe thead th {\n",
              "        text-align: right;\n",
              "    }\n",
              "</style>\n",
              "<table border=\"1\" class=\"dataframe\">\n",
              "  <thead>\n",
              "    <tr style=\"text-align: right;\">\n",
              "      <th></th>\n",
              "      <th>Employees</th>\n",
              "    </tr>\n",
              "    <tr>\n",
              "      <th>Title</th>\n",
              "      <th></th>\n",
              "    </tr>\n",
              "  </thead>\n",
              "  <tbody>\n",
              "    <tr>\n",
              "      <th>Walmart</th>\n",
              "      <td>2300000</td>\n",
              "    </tr>\n",
              "    <tr>\n",
              "      <th>Berkshire Hathaway</th>\n",
              "      <td>367700</td>\n",
              "    </tr>\n",
              "    <tr>\n",
              "      <th>Apple</th>\n",
              "      <td>116000</td>\n",
              "    </tr>\n",
              "    <tr>\n",
              "      <th>Exxon Mobil</th>\n",
              "      <td>72700</td>\n",
              "    </tr>\n",
              "    <tr>\n",
              "      <th>McKesson</th>\n",
              "      <td>68000</td>\n",
              "    </tr>\n",
              "  </tbody>\n",
              "</table>\n",
              "</div><br><label><b>dtype:</b> int64</label>"
            ]
          },
          "metadata": {},
          "execution_count": 4
        }
      ]
    },
    {
      "cell_type": "code",
      "source": [
        "fortune500.idxmax()"
      ],
      "metadata": {
        "colab": {
          "base_uri": "https://localhost:8080/",
          "height": 36
        },
        "id": "mB1DFijo2bVl",
        "outputId": "59679b0a-ccaa-4569-e210-1046f5dc6e3a"
      },
      "execution_count": 5,
      "outputs": [
        {
          "output_type": "execute_result",
          "data": {
            "text/plain": [
              "'Walmart'"
            ],
            "application/vnd.google.colaboratory.intrinsic+json": {
              "type": "string"
            }
          },
          "metadata": {},
          "execution_count": 5
        }
      ]
    },
    {
      "cell_type": "code",
      "source": [
        "fortune500[fortune500.idxmax()]"
      ],
      "metadata": {
        "colab": {
          "base_uri": "https://localhost:8080/"
        },
        "id": "1Xo8j6xn2jH-",
        "outputId": "ee652a2d-1d91-4e51-d84e-44ba03f6eca0"
      },
      "execution_count": 6,
      "outputs": [
        {
          "output_type": "execute_result",
          "data": {
            "text/plain": [
              "2300000"
            ]
          },
          "metadata": {},
          "execution_count": 6
        }
      ]
    },
    {
      "cell_type": "code",
      "source": [
        "fortune500.idxmin()"
      ],
      "metadata": {
        "colab": {
          "base_uri": "https://localhost:8080/",
          "height": 36
        },
        "id": "2-mx6V2H2okP",
        "outputId": "ca28f8d4-1cb2-4a83-f0de-8ff9dae914a2"
      },
      "execution_count": 7,
      "outputs": [
        {
          "output_type": "execute_result",
          "data": {
            "text/plain": [
              "'A-Mark Precious Metals'"
            ],
            "application/vnd.google.colaboratory.intrinsic+json": {
              "type": "string"
            }
          },
          "metadata": {},
          "execution_count": 7
        }
      ]
    },
    {
      "cell_type": "code",
      "source": [
        "fortune500[fortune500.idxmin()]"
      ],
      "metadata": {
        "colab": {
          "base_uri": "https://localhost:8080/"
        },
        "id": "yQU5CBxY2s2P",
        "outputId": "2cef0f18-5130-48f2-dbf9-70dd34adcbdf"
      },
      "execution_count": 8,
      "outputs": [
        {
          "output_type": "execute_result",
          "data": {
            "text/plain": [
              "83"
            ]
          },
          "metadata": {},
          "execution_count": 8
        }
      ]
    }
  ]
}